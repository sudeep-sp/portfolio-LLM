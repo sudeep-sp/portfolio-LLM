{
 "cells": [
  {
   "cell_type": "code",
   "execution_count": 28,
   "metadata": {},
   "outputs": [],
   "source": [
    "import os\n",
    "groq_api_key = \"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\""
   ]
  },
  {
   "cell_type": "code",
   "execution_count": 29,
   "metadata": {},
   "outputs": [],
   "source": [
    "from langchain_groq import ChatGroq\n",
    "model = ChatGroq(model_name=\"llama-3.1-8b-instant\", groq_api_key=groq_api_key)"
   ]
  },
  {
   "cell_type": "code",
   "execution_count": 30,
   "metadata": {},
   "outputs": [],
   "source": [
    "from langchain_core.prompts import ChatPromptTemplate\n",
    "from langchain_core.output_parsers import StrOutputParser"
   ]
  },
  {
   "cell_type": "code",
   "execution_count": 31,
   "metadata": {},
   "outputs": [],
   "source": [
    "about_sudeep = {\n",
    "    \"name\": \"Sudeep S Patil\",\n",
    "    \"title\": \"AI Enthusiast | Machine Learning Researcher | Developer\",\n",
    "    \"about_me\": \"I am currently pursuing an MS in AI at BTU Cottbus, Germany. My expertise lies in core machine learning, neural networks, and generative AI. I have hands-on experience with frameworks like PyTorch and tools like langchain, crewai. I’m passionate about creating AI-driven applications and exploring the latest trends in technology.\",\n",
    "    \"education\": [\n",
    "        {\n",
    "            \"degree\": \"MS in Artificial Intelligence\",\n",
    "            \"institution\": \"BTU Cottbus, Germany\",\n",
    "            \"year\": \"Present\"\n",
    "        },\n",
    "        {\n",
    "            \"degree\": \"Bachelors in CSE\",\n",
    "            \"institution\": \"VTU, India\",\n",
    "            \"year\": \"2019 - 2023\"\n",
    "        }\n",
    "    ],\n",
    "    \"internships\": [\n",
    "        {\n",
    "            \"role\": \"associate data analyst\",\n",
    "            \"company\": \"Contriver\",\n",
    "            \"duration\": \"sep 2022 - nov 2022\",\n",
    "        }\n",
    "    ],\n",
    "    \"projects\": [\n",
    "        {\n",
    "            \"name\": \"AI Blogging Website\",\n",
    "            \"description\": \"Developed a platform (**learnaiwithus.codes**) that generates AI-assisted blogs using four collaborative agents, adhering to ethical content guidelines.\",\n",
    "            \"technologies\": [\"React\", \"Next.js\", \"FastAPI\", \"Streamlit\"]\n",
    "        },\n",
    "        {\n",
    "            \"name\": \"Federated Learning Simulator\",\n",
    "            \"description\": \"Built a Streamlit app to simulate and log results of federated learning experiments.\",\n",
    "            \"technologies\": [\"Python\", \"Streamlit\", \"Flow\"]\n",
    "        }\n",
    "    ],\n",
    "    \"work_experience\": [\n",
    "        None\n",
    "    ],\n",
    "    \"contact_details\": {\n",
    "        \"email\": \"sudeep.subhashchandra.patil@gmail.com\",\n",
    "        \"linkedin\": \"https://www.linkedin.com/in/sudeepspatil/\",\n",
    "        \"github\": \"https://github.com/sudeep-sp\",\n",
    "    }\n",
    "}"
   ]
  },
  {
   "cell_type": "code",
   "execution_count": 32,
   "metadata": {},
   "outputs": [],
   "source": [
    "template = \"\"\"\n",
    "You are an AI assistant helping users learn about Sudeep S Patil, an AI enthusiast and developer. Respond to the user's queries accurately and concisely based on the following categories:\n",
    "\n",
    "1. About Me\n",
    "2. Education\n",
    "3. Projects\n",
    "4. Work Experience\n",
    "5. internships\n",
    "6. Contact Details\n",
    "\n",
    "use {about_me} to know about me\n",
    "\n",
    "User Query: \"{query}\"\n",
    "\n",
    "Use the structured data provided about Sudeep S Patil to respond. If the question relates to:\n",
    "- **About Me**: Summarize his background, interests, and expertise in AI and development.\n",
    "- **Education**: List his degrees, institutions, and ongoing academic pursuits.\n",
    "- **Projects**: Highlight specific projects he has worked on, including names, descriptions, and technologies used also give link of my github to see my more projects.\n",
    "- **work experence**: say i am fresher so i have no work experience but i have done internships\n",
    "- **Contact Details**: Provide his email, LinkedIn, GitHub.\n",
    "\n",
    "If the query is unclear or outside these categories, politely ask for clarification.\n",
    "\n",
    "\"\"\""
   ]
  },
  {
   "cell_type": "code",
   "execution_count": 33,
   "metadata": {},
   "outputs": [],
   "source": [
    "prompt_template = ChatPromptTemplate.from_template(template)"
   ]
  },
  {
   "cell_type": "code",
   "execution_count": 34,
   "metadata": {},
   "outputs": [],
   "source": [
    "output_parser = StrOutputParser()"
   ]
  },
  {
   "cell_type": "code",
   "execution_count": 35,
   "metadata": {},
   "outputs": [],
   "source": [
    "chain = prompt_template | model | output_parser"
   ]
  },
  {
   "cell_type": "code",
   "execution_count": null,
   "metadata": {},
   "outputs": [
    {
     "data": {
      "text/plain": [
       "'I am a fresher, so I have no work experience yet. However, I have completed an internship as an associate data analyst at Contriver from September 2022 to November 2022.'"
      ]
     },
     "execution_count": 36,
     "metadata": {},
     "output_type": "execute_result"
    }
   ],
   "source": [
    "chain.invoke({\"about_me\": about_sudeep, \"query\": \"tell me about sudeep\"})"
   ]
  }
 ],
 "metadata": {
  "kernelspec": {
   "display_name": "LLM",
   "language": "python",
   "name": "python3"
  },
  "language_info": {
   "codemirror_mode": {
    "name": "ipython",
    "version": 3
   },
   "file_extension": ".py",
   "mimetype": "text/x-python",
   "name": "python",
   "nbconvert_exporter": "python",
   "pygments_lexer": "ipython3",
   "version": "3.11.11"
  }
 },
 "nbformat": 4,
 "nbformat_minor": 2
}
